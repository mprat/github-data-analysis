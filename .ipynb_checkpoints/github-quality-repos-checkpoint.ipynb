{
 "metadata": {
  "name": ""
 },
 "nbformat": 3,
 "nbformat_minor": 0,
 "worksheets": [
  {
   "cells": [
    {
     "cell_type": "code",
     "collapsed": false,
     "input": [
      "%matplotlib\n",
      "import requests, json, github, time, itertools\n",
      "from requests.auth import HTTPBasicAuth\n",
      "from collections import deque"
     ],
     "language": "python",
     "metadata": {},
     "outputs": [
      {
       "output_type": "stream",
       "stream": "stdout",
       "text": [
        "Using matplotlib backend: module://IPython.kernel.zmq.pylab.backend_inline\n"
       ]
      }
     ],
     "prompt_number": 17
    },
    {
     "cell_type": "code",
     "collapsed": false,
     "input": [
      "# id_rank_list = []\n",
      "# custom_headers = {'User-Agent': 'mprat'}\n",
      "# r = requests.get(\"https://api.github.com/repositories\", headers=custom_headers)\n",
      "# json = r.json()\n",
      "# r.headers"
     ],
     "language": "python",
     "metadata": {},
     "outputs": [],
     "prompt_number": 2
    },
    {
     "cell_type": "code",
     "collapsed": false,
     "input": [
      "# json_return = r.json()\n",
      "# for repo in json_return:\n",
      "#     commit_count_params = {'full_name': repo[u'full_name']}\n",
      "#     commit_count_request = requests.get(\"https://api.github.com/repos/\" + commit_count_params['full_name'])\n",
      "#     rating = commit_count_request.json()['watchers_count'] + commit_count_request.json()['forks_count'] - commit_count_request.json()['open_issues']/ 5\n",
      "#     #need to make this binary insert into\n",
      "#     id_rank[commit_count_params['full_name']] = rating"
     ],
     "language": "python",
     "metadata": {},
     "outputs": [],
     "prompt_number": 1
    },
    {
     "cell_type": "markdown",
     "metadata": {},
     "source": [
      "Things to take into account: number of contributors, number of downloads?"
     ]
    },
    {
     "cell_type": "code",
     "collapsed": false,
     "input": [
      "# i = 0\n",
      "# desclen = 1\n",
      "# while (desclen > 0):\n",
      "#     desclen = len(r.json()[i][u'description'])\n",
      "#     i+=1\n",
      "# print desclen\n",
      "# print r.json()[i]"
     ],
     "language": "python",
     "metadata": {},
     "outputs": [],
     "prompt_number": 3
    },
    {
     "cell_type": "code",
     "collapsed": false,
     "input": [
      "#only keep track of top 5\n",
      "def rank_insert_into(rating, name, sorted_id_rank, name_list):\n",
      "    if len(sorted_id_rank) == 0:\n",
      "        sorted_id_rank.append(rating)\n",
      "        name_list.append(name)\n",
      "        return (sorted_id_rank, name_list)\n",
      "    elif len(sorted_id_rank) < 5:\n",
      "        return insert_order_helper(rating, name, sorted_id_rank, name_list)\n",
      "    elif rating <= sorted_id_rank[0]:\n",
      "        return (sorted_id_rank, name_list)\n",
      "    else:\n",
      "        (ranks, names) = insert_order_helper(rating, name, sorted_id_rank, name_list)\n",
      "        return (ranks[-5:], names[-5:])\n",
      "\n",
      "def insert_order_helper(rating, name, sorted_id_rank, name_list):\n",
      "    i = 0\n",
      "    while (i < len(sorted_id_rank) and rating > sorted_id_rank[i]):\n",
      "        i+=1\n",
      "    end_slice_rank = []\n",
      "    end_slice_name = []\n",
      "    if i < len(sorted_id_rank):\n",
      "        end_slice_rank = sorted_id_rank[i:]\n",
      "        end_slice_name = name_list[i:]\n",
      "    sorted_id_rank = sorted_id_rank[0:i] + [rating] + end_slice_rank\n",
      "    name_list = name_list[0:i] + [name] + end_slice_name\n",
      "    return (sorted_id_rank, name_list)"
     ],
     "language": "python",
     "metadata": {},
     "outputs": [],
     "prompt_number": 18
    },
    {
     "cell_type": "markdown",
     "metadata": {},
     "source": [
      "The following lines test the `rank_insert_into` method from above."
     ]
    },
    {
     "cell_type": "code",
     "collapsed": false,
     "input": [
      "sorted_list = [3, 4]\n",
      "name_list = [\"a\", \"b\"]\n",
      "(sorted_list, name_list) = rank_insert_into(6, \"foo\", sorted_list, name_list)\n",
      "(sorted_list, name_list) = rank_insert_into(7, \"foo\", sorted_list, name_list)\n",
      "print sorted_list\n",
      "print name_list"
     ],
     "language": "python",
     "metadata": {},
     "outputs": [
      {
       "output_type": "stream",
       "stream": "stdout",
       "text": [
        "adding\n",
        "adding\n",
        "[3, 4, 6, 7]\n",
        "['a', 'b', 'foo', 'foo']\n"
       ]
      }
     ],
     "prompt_number": 238
    },
    {
     "cell_type": "markdown",
     "metadata": {},
     "source": [
      "Take an iterator (which is like the abstracted PaginatedList of commits) and find the length of it in C-time using deques."
     ]
    },
    {
     "cell_type": "code",
     "collapsed": false,
     "input": [
      "def count_items_in_iterator(it):\n",
      "    counter = itertools.count()\n",
      "    deque(itertools.izip(it, counter), maxlen=0)\n",
      "    return next(counter)"
     ],
     "language": "python",
     "metadata": {},
     "outputs": [],
     "prompt_number": 19
    },
    {
     "cell_type": "code",
     "collapsed": false,
     "input": [
      "def write_to_file(contents, filename):\n",
      "    with open(filename + \".txt\", 'a') as f:\n",
      "        f.write(contents + \"\\n\")\n",
      "\n",
      "# write_to_file(\"test\", \"one\")\n",
      "# write_to_file(\"test2\", \"one\")"
     ],
     "language": "python",
     "metadata": {},
     "outputs": [],
     "prompt_number": 20
    },
    {
     "cell_type": "markdown",
     "metadata": {},
     "source": [
      "What to do next: use pygithub hooks - get all repos and the first time you get a 304 / rate limit exceeded message, get the time until reset, wait until then, and continue."
     ]
    },
    {
     "cell_type": "code",
     "collapsed": false,
     "input": [
      "g = github.Github(\"5afa80e8182a9e8f5e0338f203e05a0a6eef9e10\")\n",
      "allrepos = g.get_repos()"
     ],
     "language": "python",
     "metadata": {},
     "outputs": [],
     "prompt_number": 24
    },
    {
     "cell_type": "code",
     "collapsed": false,
     "input": [
      "file_to_write_to = \"output-10-15-13\""
     ],
     "language": "python",
     "metadata": {},
     "outputs": [],
     "prompt_number": 14
    },
    {
     "cell_type": "code",
     "collapsed": false,
     "input": [
      "def try_rating_calc(repo, sorted_rank, sorted_name):\n",
      "    try:\n",
      "        rating = repo.watchers_count + count_items_in_iterator(repo.get_commits()) - (repo.open_issues_count / 5.0)\n",
      "        write_to_file(repo.full_name + \", \" + str(rating), file_to_write_to)\n",
      "        (sorted_rank, sorted_name) = rank_insert_into(rating, repo.full_name, sorted_rank, sorted_name)\n",
      "        return (sorted_rank, sorted_name)\n",
      "    except github.GithubException:\n",
      "        write_to_file(\"start sleep time = \" + str(time.time()), file_to_write_to)\n",
      "        print zip(sorted_rank, sorted_name)\n",
      "        time.sleep(60*5)\n",
      "        write_to_file(\"end sleep time = \" + str(time.time()), file_to_write_to)\n",
      "        try_rating_calc(repo, sorted_rank, sorted_name)"
     ],
     "language": "python",
     "metadata": {},
     "outputs": [],
     "prompt_number": 22
    },
    {
     "cell_type": "code",
     "collapsed": false,
     "input": [
      "all_repos_list = []\n",
      "i = 0\n",
      "sorted_rank = []\n",
      "sorted_name = []\n",
      "start_time = time.time()\n",
      "write_to_file(\"start time = \" + str(start_time), file_to_write_to)\n",
      "for repo in allrepos:\n",
      "    full_name = repo.full_name\n",
      "    (sorted_rank, sorted_name) = try_rating_calc(repo, sorted_rank, sorted_name)\n",
      "    i += 1\n",
      "    if i > 5:\n",
      "        break\n",
      "write_to_file(str(zip(sorted_rank, sorted_name)), file_to_write_to)\n",
      "write_to_file(\"total time = \"+ str((time.time() - start_time)), file_to_write_to)"
     ],
     "language": "python",
     "metadata": {},
     "outputs": [
      {
       "ename": "TypeError",
       "evalue": "can only concatenate list (not \"str\") to list",
       "output_type": "pyerr",
       "traceback": [
        "\u001b[1;31m---------------------------------------------------------------------------\u001b[0m\n\u001b[1;31mTypeError\u001b[0m                                 Traceback (most recent call last)",
        "\u001b[1;32m<ipython-input-26-b05aaeb3dc54>\u001b[0m in \u001b[0;36m<module>\u001b[1;34m()\u001b[0m\n\u001b[0;32m     11\u001b[0m     \u001b[1;32mif\u001b[0m \u001b[0mi\u001b[0m \u001b[1;33m>\u001b[0m \u001b[1;36m5\u001b[0m\u001b[1;33m:\u001b[0m\u001b[1;33m\u001b[0m\u001b[0m\n\u001b[0;32m     12\u001b[0m         \u001b[1;32mbreak\u001b[0m\u001b[1;33m\u001b[0m\u001b[0m\n\u001b[1;32m---> 13\u001b[1;33m \u001b[0mwrite_to_file\u001b[0m\u001b[1;33m(\u001b[0m\u001b[0mzip\u001b[0m\u001b[1;33m(\u001b[0m\u001b[0msorted_rank\u001b[0m\u001b[1;33m,\u001b[0m \u001b[0msorted_name\u001b[0m\u001b[1;33m)\u001b[0m\u001b[1;33m,\u001b[0m \u001b[0mfile_to_write_to\u001b[0m\u001b[1;33m)\u001b[0m\u001b[1;33m\u001b[0m\u001b[0m\n\u001b[0m\u001b[0;32m     14\u001b[0m \u001b[0mwrite_to_file\u001b[0m\u001b[1;33m(\u001b[0m\u001b[1;34m\"total time = \"\u001b[0m\u001b[1;33m+\u001b[0m \u001b[0mstr\u001b[0m\u001b[1;33m(\u001b[0m\u001b[1;33m(\u001b[0m\u001b[0mtime\u001b[0m\u001b[1;33m.\u001b[0m\u001b[0mtime\u001b[0m\u001b[1;33m(\u001b[0m\u001b[1;33m)\u001b[0m \u001b[1;33m-\u001b[0m \u001b[0mstart_time\u001b[0m\u001b[1;33m)\u001b[0m\u001b[1;33m)\u001b[0m\u001b[1;33m,\u001b[0m \u001b[0mfile_to_write_to\u001b[0m\u001b[1;33m)\u001b[0m\u001b[1;33m\u001b[0m\u001b[0m\n",
        "\u001b[1;32m<ipython-input-20-17e443d996f4>\u001b[0m in \u001b[0;36mwrite_to_file\u001b[1;34m(contents, filename)\u001b[0m\n\u001b[0;32m      1\u001b[0m \u001b[1;32mdef\u001b[0m \u001b[0mwrite_to_file\u001b[0m\u001b[1;33m(\u001b[0m\u001b[0mcontents\u001b[0m\u001b[1;33m,\u001b[0m \u001b[0mfilename\u001b[0m\u001b[1;33m)\u001b[0m\u001b[1;33m:\u001b[0m\u001b[1;33m\u001b[0m\u001b[0m\n\u001b[0;32m      2\u001b[0m     \u001b[1;32mwith\u001b[0m \u001b[0mopen\u001b[0m\u001b[1;33m(\u001b[0m\u001b[0mfilename\u001b[0m \u001b[1;33m+\u001b[0m \u001b[1;34m\".txt\"\u001b[0m\u001b[1;33m,\u001b[0m \u001b[1;34m'a'\u001b[0m\u001b[1;33m)\u001b[0m \u001b[1;32mas\u001b[0m \u001b[0mf\u001b[0m\u001b[1;33m:\u001b[0m\u001b[1;33m\u001b[0m\u001b[0m\n\u001b[1;32m----> 3\u001b[1;33m         \u001b[0mf\u001b[0m\u001b[1;33m.\u001b[0m\u001b[0mwrite\u001b[0m\u001b[1;33m(\u001b[0m\u001b[0mcontents\u001b[0m \u001b[1;33m+\u001b[0m \u001b[1;34m\"\\n\"\u001b[0m\u001b[1;33m)\u001b[0m\u001b[1;33m\u001b[0m\u001b[0m\n\u001b[0m\u001b[0;32m      4\u001b[0m \u001b[1;33m\u001b[0m\u001b[0m\n\u001b[0;32m      5\u001b[0m \u001b[1;31m# write_to_file(\"test\", \"one\")\u001b[0m\u001b[1;33m\u001b[0m\u001b[1;33m\u001b[0m\u001b[0m\n",
        "\u001b[1;31mTypeError\u001b[0m: can only concatenate list (not \"str\") to list"
       ]
      }
     ],
     "prompt_number": 26
    },
    {
     "cell_type": "markdown",
     "metadata": {},
     "source": [
      "Checked and made sure that the `watchers` tag and the `watchers_count` tag are the same:"
     ]
    },
    {
     "cell_type": "code",
     "collapsed": false,
     "input": [
      "all_repos_list = []\n",
      "i = 0\n",
      "for repo in allrepos:\n",
      "    full_name = repo.full_name\n",
      "    all_repos_list.append([full_name, repo.watchers, repo.watchers_count])\n",
      "    i += 1\n",
      "    if i > 10:\n",
      "        break\n",
      "print all_repos_list"
     ],
     "language": "python",
     "metadata": {},
     "outputs": []
    },
    {
     "cell_type": "code",
     "collapsed": false,
     "input": [
      "print sorted_rank\n",
      "print sorted_name"
     ],
     "language": "python",
     "metadata": {},
     "outputs": [
      {
       "output_type": "stream",
       "stream": "stdout",
       "text": [
        "[1398, 1501, 1640, 1820, 1897]\n",
        "[u'mojombo/god', u'mojombo/chronic', u'technoweenie/restful-authentication', u'mojombo/grit', u'rubinius/rubinius']\n"
       ]
      }
     ],
     "prompt_number": 233
    },
    {
     "cell_type": "code",
     "collapsed": false,
     "input": [
      "a = (1, 2)\n",
      "b = (\"a\", \"b\")"
     ],
     "language": "python",
     "metadata": {},
     "outputs": [],
     "prompt_number": 266
    },
    {
     "cell_type": "code",
     "collapsed": false,
     "input": [
      "reversed(zip(a, b))"
     ],
     "language": "python",
     "metadata": {},
     "outputs": [
      {
       "metadata": {},
       "output_type": "pyout",
       "prompt_number": 278,
       "text": [
        "<listreverseiterator at 0x6fd1a50>"
       ]
      }
     ],
     "prompt_number": 278
    }
   ],
   "metadata": {}
  }
 ]
}