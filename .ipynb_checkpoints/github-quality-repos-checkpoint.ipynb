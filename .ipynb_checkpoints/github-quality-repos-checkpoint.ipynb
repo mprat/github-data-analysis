{
 "metadata": {
  "name": ""
 },
 "nbformat": 3,
 "nbformat_minor": 0,
 "worksheets": [
  {
   "cells": [
    {
     "cell_type": "code",
     "collapsed": false,
     "input": [
      "%matplotlib\n",
      "import requests, json, github\n",
      "from requests.auth import HTTPBasicAuth"
     ],
     "language": "python",
     "metadata": {},
     "outputs": [
      {
       "output_type": "stream",
       "stream": "stdout",
       "text": [
        "Using matplotlib backend: module://IPython.kernel.zmq.pylab.backend_inline\n"
       ]
      }
     ],
     "prompt_number": 175
    },
    {
     "cell_type": "code",
     "collapsed": false,
     "input": [
      "id_rank_list = []\n",
      "custom_headers = {'User-Agent': 'mprat'}\n",
      "r = requests.get(\"https://api.github.com/repositories\", headers=custom_headers)\n",
      "json = r.json()\n",
      "r.headers"
     ],
     "language": "python",
     "metadata": {},
     "outputs": [],
     "prompt_number": 9
    },
    {
     "cell_type": "code",
     "collapsed": false,
     "input": [
      "json_return = r.json()\n",
      "for repo in json_return:\n",
      "    commit_count_params = {'full_name': repo[u'full_name']}\n",
      "    commit_count_request = requests.get(\"https://api.github.com/repos/\" + commit_count_params['full_name'])\n",
      "    rating = commit_count_request.json()['watchers_count'] + commit_count_request.json()['forks_count'] - commit_count_request.json()['open_issues']/ 5\n",
      "    #need to make this binary insert into\n",
      "    id_rank[commit_count_params['full_name']] = rating"
     ],
     "language": "python",
     "metadata": {},
     "outputs": [
      {
       "ename": "KeyError",
       "evalue": "'watchers_count'",
       "output_type": "pyerr",
       "traceback": [
        "\u001b[1;31m---------------------------------------------------------------------------\u001b[0m\n\u001b[1;31mKeyError\u001b[0m                                  Traceback (most recent call last)",
        "\u001b[1;32m<ipython-input-126-006ea6a47bbf>\u001b[0m in \u001b[0;36m<module>\u001b[1;34m()\u001b[0m\n\u001b[0;32m      3\u001b[0m     \u001b[0mcommit_count_params\u001b[0m \u001b[1;33m=\u001b[0m \u001b[1;33m{\u001b[0m\u001b[1;34m'full_name'\u001b[0m\u001b[1;33m:\u001b[0m \u001b[0mrepo\u001b[0m\u001b[1;33m[\u001b[0m\u001b[1;34mu'full_name'\u001b[0m\u001b[1;33m]\u001b[0m\u001b[1;33m}\u001b[0m\u001b[1;33m\u001b[0m\u001b[0m\n\u001b[0;32m      4\u001b[0m     \u001b[0mcommit_count_request\u001b[0m \u001b[1;33m=\u001b[0m \u001b[0mrequests\u001b[0m\u001b[1;33m.\u001b[0m\u001b[0mget\u001b[0m\u001b[1;33m(\u001b[0m\u001b[1;34m\"https://api.github.com/repos/\"\u001b[0m \u001b[1;33m+\u001b[0m \u001b[0mcommit_count_params\u001b[0m\u001b[1;33m[\u001b[0m\u001b[1;34m'full_name'\u001b[0m\u001b[1;33m]\u001b[0m\u001b[1;33m)\u001b[0m\u001b[1;33m\u001b[0m\u001b[0m\n\u001b[1;32m----> 5\u001b[1;33m     \u001b[0mrating\u001b[0m \u001b[1;33m=\u001b[0m \u001b[0mcommit_count_request\u001b[0m\u001b[1;33m.\u001b[0m\u001b[0mjson\u001b[0m\u001b[1;33m(\u001b[0m\u001b[1;33m)\u001b[0m\u001b[1;33m[\u001b[0m\u001b[1;34m'watchers_count'\u001b[0m\u001b[1;33m]\u001b[0m \u001b[1;33m+\u001b[0m \u001b[0mcommit_count_request\u001b[0m\u001b[1;33m.\u001b[0m\u001b[0mjson\u001b[0m\u001b[1;33m(\u001b[0m\u001b[1;33m)\u001b[0m\u001b[1;33m[\u001b[0m\u001b[1;34m'forks_count'\u001b[0m\u001b[1;33m]\u001b[0m \u001b[1;33m-\u001b[0m \u001b[0mcommit_count_request\u001b[0m\u001b[1;33m.\u001b[0m\u001b[0mjson\u001b[0m\u001b[1;33m(\u001b[0m\u001b[1;33m)\u001b[0m\u001b[1;33m[\u001b[0m\u001b[1;34m'open_issues'\u001b[0m\u001b[1;33m]\u001b[0m\u001b[1;33m/\u001b[0m \u001b[1;36m5\u001b[0m\u001b[1;33m\u001b[0m\u001b[0m\n\u001b[0m\u001b[0;32m      6\u001b[0m     \u001b[1;31m#need to make this binary insert into\u001b[0m\u001b[1;33m\u001b[0m\u001b[1;33m\u001b[0m\u001b[0m\n\u001b[0;32m      7\u001b[0m     \u001b[0mid_rank\u001b[0m\u001b[1;33m[\u001b[0m\u001b[0mcommit_count_params\u001b[0m\u001b[1;33m[\u001b[0m\u001b[1;34m'full_name'\u001b[0m\u001b[1;33m]\u001b[0m\u001b[1;33m]\u001b[0m \u001b[1;33m=\u001b[0m \u001b[0mrating\u001b[0m\u001b[1;33m\u001b[0m\u001b[0m\n",
        "\u001b[1;31mKeyError\u001b[0m: 'watchers_count'"
       ]
      }
     ],
     "prompt_number": 126
    },
    {
     "cell_type": "markdown",
     "metadata": {},
     "source": [
      "Things to take into account: number of contributors, number of downloads?"
     ]
    },
    {
     "cell_type": "code",
     "collapsed": false,
     "input": [
      "commit_count_request.json()['message']"
     ],
     "language": "python",
     "metadata": {},
     "outputs": [
      {
       "metadata": {},
       "output_type": "pyout",
       "prompt_number": 132,
       "text": [
        "u'API rate limit exceeded for 2.54.248.76.'"
       ]
      }
     ],
     "prompt_number": 132
    },
    {
     "cell_type": "code",
     "collapsed": false,
     "input": [
      "#only keep track of top 5\n",
      "def rank_insert_into(rating, name, sorted_id_rank, name_list):\n",
      "    if len(sorted_id_rank) == 0:\n",
      "        sorted_id_rank.append(rating)\n",
      "    elif rating <= sorted_id_rank[0]:\n",
      "        return sorted_id_rank\n",
      "    else:\n",
      "        i = 0\n",
      "        while (i < len(sorted_id_rank) and rating > sorted_id_rank[i]):\n",
      "            i+=1\n",
      "        end_slice_rank = []\n",
      "        end_slice_name = []\n",
      "        if i < len(sorted_id_rank):\n",
      "            end_slice_rank = sorted_id_rank[i:]\n",
      "            end_slice_name = name_list[i:]\n",
      "        sorted_id_rank = sorted_id_rank[1:i] + [rating] + end_slice_rank\n",
      "        name_list = name_list[1:i] + [name] + end_slice_name\n",
      "    return (sorted_id_rank, name_list)"
     ],
     "language": "python",
     "metadata": {},
     "outputs": [],
     "prompt_number": 190
    },
    {
     "cell_type": "markdown",
     "metadata": {},
     "source": [
      "The following three lines test the `rank_insert_into` method from above."
     ]
    },
    {
     "cell_type": "code",
     "collapsed": false,
     "input": [
      "sorted_list = [1, 2, 3, 7, 10]\n",
      "name_list = [\"a\", \"b\", \"c\", \"d\", \"e\"]\n",
      "(sorted_list, name_list) = rank_insert_into(6, \"foo\", sorted_list, name_list)\n",
      "print sorted_list\n",
      "print name_list"
     ],
     "language": "python",
     "metadata": {},
     "outputs": [
      {
       "output_type": "stream",
       "stream": "stdout",
       "text": [
        "[2, 3, 6, 7, 10]\n",
        "['b', 'c', 'foo', 'd', 'e']\n"
       ]
      }
     ],
     "prompt_number": 192
    },
    {
     "cell_type": "markdown",
     "metadata": {},
     "source": [
      "What to do next: use pygithub hooks - get all repos and the first time you get a 304 / rate limit exceeded message, get the time until reset, wait until then, and continue."
     ]
    },
    {
     "cell_type": "code",
     "collapsed": false,
     "input": [
      "g = github.Github()\n",
      "allrepos = g.get_repos()"
     ],
     "language": "python",
     "metadata": {},
     "outputs": [
      {
       "output_type": "stream",
       "stream": "stdout",
       "text": [
        "[[u'mojombo/grit', 1820, 1820], [u'wycats/merb-core', 399, 399], [u'rubinius/rubinius', 1897, 1897], [u'mojombo/god', 1398, 1398], [u'vanpelt/jsawesome', 8, 8], [u'wycats/jspec', 43, 43], [u'defunkt/exception_logger', 229, 229], [u'defunkt/ambition', 137, 137], [u'technoweenie/restful-authentication', 1640, 1640], [u'technoweenie/attachment_fu', 1035, 1035], [u'topfunky/bong', 55, 55]]\n"
       ]
      }
     ],
     "prompt_number": 182
    },
    {
     "cell_type": "code",
     "collapsed": false,
     "input": [
      "all_repos_list = []\n",
      "i = 0\n",
      "for repo in allrepos:\n",
      "    full_name = repo.full_name\n",
      "    all_repos_list.append([full_name, repo.watchers_count])\n",
      "    i += 1\n",
      "    if i > 10:\n",
      "        break\n",
      "print all_repos_list"
     ],
     "language": "python",
     "metadata": {},
     "outputs": []
    },
    {
     "cell_type": "markdown",
     "metadata": {},
     "source": [
      "Checked and made sure that the `watchers` tag and the `watchers_count` tag are the same:"
     ]
    },
    {
     "cell_type": "code",
     "collapsed": false,
     "input": [
      "all_repos_list = []\n",
      "i = 0\n",
      "for repo in allrepos:\n",
      "    full_name = repo.full_name\n",
      "    all_repos_list.append([full_name, repo.watchers, repo.watchers_count])\n",
      "    i += 1\n",
      "    if i > 10:\n",
      "        break\n",
      "print all_repos_list"
     ],
     "language": "python",
     "metadata": {},
     "outputs": [
      {
       "ename": "NameError",
       "evalue": "name 'allrepos' is not defined",
       "output_type": "pyerr",
       "traceback": [
        "\u001b[1;31m---------------------------------------------------------------------------\u001b[0m\n\u001b[1;31mNameError\u001b[0m                                 Traceback (most recent call last)",
        "\u001b[1;32m<ipython-input-183-bb53a6ab7819>\u001b[0m in \u001b[0;36m<module>\u001b[1;34m()\u001b[0m\n\u001b[0;32m      1\u001b[0m \u001b[0mall_repos_list\u001b[0m \u001b[1;33m=\u001b[0m \u001b[1;33m[\u001b[0m\u001b[1;33m]\u001b[0m\u001b[1;33m\u001b[0m\u001b[0m\n\u001b[0;32m      2\u001b[0m \u001b[0mi\u001b[0m \u001b[1;33m=\u001b[0m \u001b[1;36m0\u001b[0m\u001b[1;33m\u001b[0m\u001b[0m\n\u001b[1;32m----> 3\u001b[1;33m \u001b[1;32mfor\u001b[0m \u001b[0mrepo\u001b[0m \u001b[1;32min\u001b[0m \u001b[0mallrepos\u001b[0m\u001b[1;33m:\u001b[0m\u001b[1;33m\u001b[0m\u001b[0m\n\u001b[0m\u001b[0;32m      4\u001b[0m     \u001b[0mfull_name\u001b[0m \u001b[1;33m=\u001b[0m \u001b[0mrepo\u001b[0m\u001b[1;33m.\u001b[0m\u001b[0mfull_name\u001b[0m\u001b[1;33m\u001b[0m\u001b[0m\n\u001b[0;32m      5\u001b[0m     \u001b[0mall_repos_list\u001b[0m\u001b[1;33m.\u001b[0m\u001b[0mappend\u001b[0m\u001b[1;33m(\u001b[0m\u001b[1;33m[\u001b[0m\u001b[0mfull_name\u001b[0m\u001b[1;33m,\u001b[0m \u001b[0mrepo\u001b[0m\u001b[1;33m.\u001b[0m\u001b[0mwatchers\u001b[0m\u001b[1;33m,\u001b[0m \u001b[0mrepo\u001b[0m\u001b[1;33m.\u001b[0m\u001b[0mwatchers_count\u001b[0m\u001b[1;33m]\u001b[0m\u001b[1;33m)\u001b[0m\u001b[1;33m\u001b[0m\u001b[0m\n",
        "\u001b[1;31mNameError\u001b[0m: name 'allrepos' is not defined"
       ]
      }
     ],
     "prompt_number": 183
    }
   ],
   "metadata": {}
  }
 ]
}